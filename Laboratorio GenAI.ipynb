{
 "cells": [
  {
   "cell_type": "code",
   "execution_count": null,
   "metadata": {},
   "outputs": [],
   "source": [
    "! pip3 isntall openpyxl\n",
    "! pip3 install langchain_community\n",
    "! pip3 install langchain"
   ]
  },
  {
   "cell_type": "code",
   "execution_count": null,
   "metadata": {},
   "outputs": [],
   "source": [
    "import pandas as pd\n",
    "from IPython.display import Markdown, display\n",
    "df = pd.read_excel('premier_league_tweets.xlsx')\n",
    "df.head()"
   ]
  },
  {
   "cell_type": "code",
   "execution_count": null,
   "metadata": {},
   "outputs": [],
   "source": [
    "df['player_name'].unique()"
   ]
  },
  {
   "cell_type": "code",
   "execution_count": null,
   "metadata": {},
   "outputs": [],
   "source": [
    "df['player_name'].value_counts()"
   ]
  },
  {
   "cell_type": "code",
   "execution_count": null,
   "metadata": {},
   "outputs": [],
   "source": [
    "contexto = \" \"\n",
    "for jugador, tweet in zip(df['player_name'], df['tweet']):\n",
    "    contexto += f\"\"\"\n",
    "    +++++++++++++++++++++++++++++++++++++++\n",
    "    Tweet sobre {jugador}:\n",
    "    {tweet}\n",
    "    +++++++++++++++++++++++++++++++++++++++\n",
    "    \"\"\""
   ]
  },
  {
   "cell_type": "code",
   "execution_count": null,
   "metadata": {},
   "outputs": [],
   "source": [
    "from langchain.schema import HumanMessage, AIMessage, SystemMessage\n",
    "from langchain_community.chat_models import ChatOCIGenAI\n",
    "\n",
    "# OCI Configuration\n",
    "COMPARTMENT_ID = \"AQUI VA TU COMPARTMENT\"\n",
    "AUTH_TYPE = \"API_KEY\"\n",
    "CONFIG_PROFILE = \"DEFAULT\"\n",
    "ENDPOINT = \"https://inference.generativeai.us-chicago-1.oci.oraclecloud.com\"\n",
    "SYSTEM_PROMPT = \"\"\"\n",
    "Eres un narrador deportivo experto especializado en crear narrativas concisas y dinámicas a partir de información breve. Tu tarea es analizar tweets sobre deportistas y transformarlos en comentarios deportivos profesionales y entretenidos.\n",
    "\n",
    "INSTRUCCIONES:\n",
    "1. Cuando recibas el nombre de un jugador, localiza en el contexto los tweets relacionados con ese atleta.\n",
    "2. Analiza eficientemente el contenido limitado de estos tweets, extrayendo:\n",
    "   - Menciones de rendimiento o estadísticas\n",
    "   - Reacciones a partidos o competencias\n",
    "   - Opiniones sobre habilidades o momentos destacados\n",
    "   - Cualquier información relevante sobre su carrera o situación actual\n",
    "\n",
    "3. Genera una narrativa deportiva concisa pero impactante que:\n",
    "   - Sintetice la esencia de la información disponible en los tweets\n",
    "   - Utilice lenguaje dinámico y expresivo del periodismo deportivo\n",
    "   - Mantenga un tono profesional pero accesible\n",
    "   - Contextualice la información dentro del panorama deportivo actual\n",
    "   - Se adapte al volumen limitado de información disponible\n",
    "\n",
    "4. Mantén tus narrativas breves y directas, ideales para formatos como:\n",
    "   - Comentarios rápidos entre jugadas\n",
    "   - Resúmenes post-partido\n",
    "   - Introducciones de segmentos deportivos\n",
    "   - Publicaciones en redes sociales\n",
    "\n",
    "5. Agregar una seccion de \"Lo que la gente piensa\" donde se muestren citas de los tweets encontrados. Solo citalos, no hagas\n",
    "comentarios al respecto. Divide esta seccion en positivos y negativos\n",
    "\n",
    "Si no encuentras nada de dicho jugador, di que no puedes ayudar debido a la ausencia de informacion\n",
    "\n",
    "Si los tweets contienen información contradictoria o poco clara, enfócate en los elementos más consistentes o mencionados con mayor frecuencia.\n",
    "\n",
    "Tu objetivo es transformar fragmentos breves de información en narrativas deportivas profesionales que capturen la atención y transmitan lo esencial del mensaje original.\n",
    "\n",
    "Responde siempre usando markdown\n",
    "\"\"\"\n",
    "\n",
    "jugador = \"AQUI PON EL NOMBRE DE ALGUN JUGADOR\"\n",
    "\n",
    "HUMAN_MESSAGE = f\"\"\"\n",
    "Utilizando la siguiente informacion como contexto: {contexto},\n",
    "genera la narrativa de este jugador: {jugador}\n",
    "\"\"\"\n",
    "\n",
    "model_kwargs = {\n",
    "        \"temperature\": 1.0,\n",
    "        \"max_tokens\": 1200,\n",
    "        \"top_p\": 0.7\n",
    "    }\n",
    "\n",
    "llm = ChatOCIGenAI(\n",
    "            model_id=\"ocid1.generativeaimodel.oc1.us-chicago-1.amaaaaaask7dceyajqi26fkxly6qje5ysvezzrypapl7ujdnqfjq6hzo2loq\",\n",
    "            service_endpoint=ENDPOINT,\n",
    "            compartment_id=COMPARTMENT_ID,\n",
    "            provider=\"meta\",\n",
    "            auth_type=AUTH_TYPE,\n",
    "            auth_profile=CONFIG_PROFILE,\n",
    "            model_kwargs=model_kwargs\n",
    "        )\n",
    "\n",
    "messages = [SystemMessage(content=SYSTEM_PROMPT), HumanMessage(content=HUMAN_MESSAGE)]\n",
    "   \n",
    "  \n",
    "response = llm.invoke(messages)\n",
    "\n",
    "display(Markdown(response.content))"
   ]
  },
  {
   "cell_type": "code",
   "execution_count": null,
   "metadata": {},
   "outputs": [],
   "source": []
  }
 ],
 "metadata": {
  "kernelspec": {
   "display_name": "Python 3",
   "language": "python",
   "name": "python3"
  },
  "language_info": {
   "codemirror_mode": {
    "name": "ipython",
    "version": 3
   },
   "file_extension": ".py",
   "mimetype": "text/x-python",
   "name": "python",
   "nbconvert_exporter": "python",
   "pygments_lexer": "ipython3",
   "version": "3.12.4"
  }
 },
 "nbformat": 4,
 "nbformat_minor": 2
}
